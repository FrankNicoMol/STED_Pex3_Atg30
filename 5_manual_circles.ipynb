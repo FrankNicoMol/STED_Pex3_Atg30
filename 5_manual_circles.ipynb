{
 "cells": [
  {
   "cell_type": "code",
   "execution_count": null,
   "id": "2047dbb0",
   "metadata": {
    "pycharm": {
     "name": "#%%\n"
    }
   },
   "outputs": [],
   "source": [
    "%matplotlib inline\n",
    "import numpy as np\n",
    "import os\n",
    "import tifffile as tif\n",
    "import matplotlib.pyplot as plt\n",
    "from matplotlib.patches import Circle\n",
    "import pickle\n",
    "\n",
    "inc_array = pickle.load( open( f'data/incorrect.p', \"rb\" ) )\n",
    "line_width = 2\n",
    "\n",
    "\n",
    "li = os.listdir(f'data/combined')\n",
    "name_list = []\n",
    "for item in li:\n",
    "    if item[-4:] == 'tiff':\n",
    "        name_list.append(item)\n",
    "\n",
    "nl = []\n",
    "num_l = []\n",
    "for i, name in zip(range(len(name_list)), name_list):\n",
    "    if inc_array[i] == 1:\n",
    "        nl.append(name)\n",
    "        num_l.append(i)\n",
    "\n",
    "im_num = 0\n",
    "\n",
    "def adj_input():\n",
    "    o = input('Remove image from dataset? (y) to remove, press \"Enter\" othewise')\n",
    "    if o != 'y':\n",
    "        o = 'n'\n",
    "    \n",
    "\n",
    "        n = input('Number of rings? if already correct, press \"Enter\"')\n",
    "        if n == '':\n",
    "            n = 0\n",
    "        r = input('Reset rings? (y) if reset, press \"Enter\" otherwise')\n",
    "        if r != 'y':\n",
    "            r = 'n'\n",
    "    else:\n",
    "        r= 'n'\n",
    "        n = 0\n",
    "\n",
    "    return r, int(n), o"
   ]
  },
  {
   "cell_type": "markdown",
   "id": "ccf329c2",
   "metadata": {
    "pycharm": {
     "name": "#%% md\n"
    }
   },
   "source": [
    "# Repeat following cells until finished\n",
    "<a id='start_cell'></a>"
   ]
  },
  {
   "cell_type": "code",
   "execution_count": null,
   "id": "ea0fbd51",
   "metadata": {
    "pycharm": {
     "name": "#%%\n"
    }
   },
   "outputs": [],
   "source": [
    "pex = tif.imread(f'data/combined/{nl[im_num]}')[0]\n",
    "circles, radii = pickle.load(open( f'data/analysis/{nl[im_num][:-5]}/circle_data.p', \"rb\" ) )\n",
    "                             \n",
    "%matplotlib inline \n",
    "fig, ax = plt.subplots(figsize=(10,10))\n",
    "plt.title(nl[im_num][:-5], fontsize = 20)\n",
    "ax.imshow(pex, cmap='Reds')\n",
    "if type(circles[0]) == np.float64:\n",
    "    x,y = circles\n",
    "    rad = radii\n",
    "    circ = Circle((x,  y), rad - line_width, color='black', fill = False, alpha = 0.5)\n",
    "    ax.add_patch(circ)\n",
    "    circ = Circle((x,  y), rad + line_width, color='black', fill = False, alpha = 0.5)\n",
    "    ax.add_patch(circ)\n",
    "    ax.plot(x,y, 'k.')\n",
    "    ax.plot([x, x+rad],[y,y], 'k')\n",
    "else:\n",
    "    for circle, rad in zip(circles, radii):\n",
    "        x,y = circle\n",
    "\n",
    "        circ = Circle((x,  y), rad - line_width, color='black', fill = False, alpha = 0.5)\n",
    "        ax.add_patch(circ)\n",
    "        circ = Circle((x,  y), rad + line_width, color='black', fill = False, alpha = 0.5)\n",
    "        ax.add_patch(circ)\n",
    "        ax.plot(x,y, 'k.')\n",
    "        ax.plot([x, x+rad],[y,y], 'k')"
   ]
  },
  {
   "cell_type": "code",
   "execution_count": null,
   "id": "f80d21d8",
   "metadata": {
    "pycharm": {
     "name": "#%%\n"
    }
   },
   "outputs": [],
   "source": [
    "reset_rings, nrings, remove_img = adj_input()"
   ]
  },
  {
   "cell_type": "code",
   "execution_count": null,
   "id": "fb3ff8a5",
   "metadata": {
    "pycharm": {
     "name": "#%%\n"
    }
   },
   "outputs": [],
   "source": [
    "%matplotlib notebook\n",
    "\n",
    "if remove_img == 'y':\n",
    "    clist = None\n",
    "    rads = None\n",
    "else:    \n",
    "\n",
    "    if reset_rings == 'n':\n",
    "        clist = circles\n",
    "        rads = radii\n",
    "\n",
    "    else:\n",
    "        rads = []\n",
    "        def onclick(event, l):\n",
    "\n",
    "\n",
    "            x, y = event.xdata, event.ydata\n",
    "\n",
    "            if event.button == 3:\n",
    "\n",
    "                if len(l)%2 == 0:\n",
    "                    ax.lines[-1].remove()\n",
    "                    ax.lines[-1].remove()\n",
    "                    ax.patches[-1].remove()\n",
    "                    ax.patches[-1].remove()\n",
    "                    x2, y2 = l[-1]\n",
    "                    l.pop(-1)\n",
    "                    ax.lines[-1].remove()\n",
    "                    x1, y1 = l[-1]\n",
    "                    l.pop(-1)\n",
    "\n",
    "                    d1 = np.linalg.norm([x-x1, y-y1])\n",
    "                    d2 = np.linalg.norm([x-x2, y-y2])\n",
    "\n",
    "                    if d1 < d2:\n",
    "\n",
    "                        xc, yc = x,y\n",
    "                        xo, yo = x2, y2        \n",
    "\n",
    "                    else:\n",
    "\n",
    "                        xc, yc = x1,y1\n",
    "                        xo, yo = x, y\n",
    "\n",
    "                    l.append((xc,yc))\n",
    "                    ax.plot(xc,yc, 'k.')\n",
    "\n",
    "                    l.append((xo,yo))\n",
    "                    ax.plot(xo,yo, 'k.')\n",
    "                    ax.plot([xo, l[-2][0]],[yo, l[-2][1]], 'k')\n",
    "                    rad = np.sqrt((xo - l[-2][0])**2 + (yo - l[-2][1])**2 )\n",
    "                    circ = Circle((l[-2][0],  l[-2][1]), rad - line_width, color='black', fill = False, alpha = 0.5)\n",
    "                    ax.add_patch(circ)\n",
    "                    circ = Circle((l[-2][0],  l[-2][1]), rad + line_width, color='black', fill = False, alpha = 0.5)\n",
    "                    ax.add_patch(circ)\n",
    "\n",
    "                else:\n",
    "                    ax.lines[-1].remove()\n",
    "                    l.pop(-1)\n",
    "            else:\n",
    "\n",
    "                l.append((x, y))\n",
    "                if len(l)%2 == 0:\n",
    "                    ax.plot(x,y, 'k.')\n",
    "                    ax.plot([x, l[-2][0]],[y, l[-2][1]], 'k')\n",
    "                    rad = np.sqrt((x - l[-2][0])**2 + (y - l[-2][1])**2 )\n",
    "\n",
    "                    circ = Circle((l[-2][0],  l[-2][1]), rad - line_width, color='black', fill = False, alpha = 0.5)\n",
    "                    ax.add_patch(circ)\n",
    "                    circ = Circle((l[-2][0],  l[-2][1]), rad + line_width, color='black', fill = False, alpha = 0.5)\n",
    "                    ax.add_patch(circ)\n",
    "\n",
    "\n",
    "                else:\n",
    "                    ax.plot(x,y, 'k.')\n",
    "\n",
    "        clist = []\n",
    "        cnt = 0\n",
    "        fig, ax = plt.subplots(figsize=(10,10))\n",
    "        plt.title(nl[im_num][:-5], fontsize = 20)\n",
    "        ax.imshow(pex, cmap='Reds')\n",
    "\n",
    "\n",
    "        circ = 0\n",
    "\n",
    "        cid = fig.canvas.mpl_connect('button_press_event', lambda evt: onclick(evt, clist))"
   ]
  },
  {
   "cell_type": "code",
   "execution_count": null,
   "id": "da4e0215",
   "metadata": {
    "pycharm": {
     "name": "#%%\n"
    }
   },
   "outputs": [],
   "source": [
    "pth = f'data/analysis/{nl[im_num][:-5]}'\n",
    "\n",
    "\n",
    "if reset_rings == 'y':\n",
    "    rads = []\n",
    "    \n",
    "    plt.savefig(f'{pth}/updated_circles.png')\n",
    "    for i in range(int(len(clist)/2)):\n",
    "        rads.append(np.linalg.norm([clist[i*2][0]-clist[i*2+1][0], clist[i*2][1]-clist[i*2+1][1]]))\n",
    "\n",
    "    centers = clist[::2]\n",
    "    \n",
    "else:\n",
    "    centers = clist\n",
    "\n",
    "if remove_img == 'n':\n",
    "    if nrings> len(clist):\n",
    "\n",
    "        for i in range(nrings-len(centers)):\n",
    "            centers.append(None)\n",
    "            rads.append(None)\n",
    "\n",
    "pickle.dump( [centers, rads], open( f'{pth}/circle_data_manual_update.p', \"wb\" ) )\n",
    "\n",
    "im_num +=1\n",
    "\n",
    "if im_num == len(nl):\n",
    "    print(\"FINISHED\")"
   ]
  },
  {
   "cell_type": "markdown",
   "id": "1465a659",
   "metadata": {
    "pycharm": {
     "name": "#%% md\n"
    }
   },
   "source": [
    "[Back to top](#start_cell)"
   ]
  }
 ],
 "metadata": {
  "kernelspec": {
   "display_name": "Python 3 (ipykernel)",
   "language": "python",
   "name": "python3"
  },
  "language_info": {
   "codemirror_mode": {
    "name": "ipython",
    "version": 3
   },
   "file_extension": ".py",
   "mimetype": "text/x-python",
   "name": "python",
   "nbconvert_exporter": "python",
   "pygments_lexer": "ipython3",
   "version": "3.7.9"
  }
 },
 "nbformat": 4,
 "nbformat_minor": 5
}